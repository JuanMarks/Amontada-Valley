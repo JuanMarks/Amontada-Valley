{
 "cells": [
  {
   "cell_type": "markdown",
   "metadata": {},
   "source": [
    "# Automação de Sistemas e Processos com Python\n",
    "\n",
    "### Desafio:\n",
    "\n",
    "Todos os dias, o nosso sistema atualiza as vendas do dia anterior.\n",
    "O seu trabalho diário, como analista, é enviar um e-mail para a diretoria, assim que começar a trabalhar, com o faturamento e a quantidade de produtos vendidos no dia anterior\n",
    "\n",
    "E-mail da diretoria: seugmail+diretoria@gmail.com<br>\n",
    "Local onde o sistema disponibiliza as vendas do dia anterior: https://drive.google.com/drive/folders/149xknr9JvrlEnhNWO49zPcw0PW5icxga?usp=sharing\n",
    "\n",
    "Para resolver isso, vamos usar o pyautogui, uma biblioteca de automação de comandos do mouse e do teclado"
   ]
  },
  {
   "cell_type": "code",
   "execution_count": null,
   "metadata": {},
   "outputs": [],
   "source": [
    "\n",
    "import pyautogui\n",
    "import time\n",
    "import pyperclip\n",
    "\n",
    "pyautogui.PAUSE = 1\n",
    "\n",
    "pyautogui.hotkey(\"alt\", \"tab\")\n",
    "pyautogui.hotkey(\"ctrl\", \"t\")\n",
    "\n",
    "pyautogui.write(\"https://drive.google.com/drive/folders/149xknr9JvrlEnhNWO49zPcw0PW5icxga\")\n",
    "pyautogui.press(\"enter\")\n",
    "\n",
    "time.sleep(5)\n",
    "\n",
    "pyautogui.click(x=400, y=270, clicks=2)\n",
    "time.sleep(5)\n",
    "pyautogui.click(x=400, y=270, button=\"right\")\n",
    "time.sleep(2)\n",
    "pyautogui.click(x=487, y=777)\n",
    "pyautogui.click(x=793, y=501)"
   ]
  },
  {
   "cell_type": "markdown",
   "metadata": {},
   "source": [
    "### Vamos agora ler o arquivo baixado para pegar os indicadores\n",
    "\n",
    "- Faturamento\n",
    "- Quantidade de Produtos"
   ]
  },
  {
   "cell_type": "code",
   "execution_count": 1,
   "metadata": {},
   "outputs": [
    {
     "name": "stdout",
     "output_type": "stream",
     "text": [
      "      Código Venda       Data                     ID Loja           Produto  \\\n",
      "0            65014 2019-12-01            Shopping Morumbi    Sunga Listrado   \n",
      "1            65014 2019-12-01            Shopping Morumbi   Casaco Listrado   \n",
      "2            65016 2019-12-01           Iguatemi Campinas   Sapato Listrado   \n",
      "3            65016 2019-12-01           Iguatemi Campinas            Casaco   \n",
      "4            65017 2019-12-01          Shopping SP Market        Gorro Liso   \n",
      "...            ...        ...                         ...               ...   \n",
      "7084         69996 2019-12-26  Center Shopping Uberlândia    Short Listrado   \n",
      "7085         69996 2019-12-26  Center Shopping Uberlândia           Mochila   \n",
      "7086         69996 2019-12-26  Center Shopping Uberlândia  Pulseira Estampa   \n",
      "7087         69997 2019-12-26           Ribeirão Shopping   Camisa Listrado   \n",
      "7088         69997 2019-12-26           Ribeirão Shopping       Short Linho   \n",
      "\n",
      "      Quantidade  Valor Unitário  Valor Final  \n",
      "0              5             114          570  \n",
      "1              1             269          269  \n",
      "2              2             363          726  \n",
      "3              1             250          250  \n",
      "4              3              92          276  \n",
      "...          ...             ...          ...  \n",
      "7084           2             102          204  \n",
      "7085           4             270         1080  \n",
      "7086           1              87           87  \n",
      "7087           1             108          108  \n",
      "7088           2             133          266  \n",
      "\n",
      "[7089 rows x 7 columns]\n"
     ]
    }
   ],
   "source": [
    "import pandas as pd\n",
    "\n",
    "tabela = pd.read_excel(\"Vendas - Dez.xlsx\")\n",
    "print(tabela)"
   ]
  },
  {
   "cell_type": "markdown",
   "metadata": {},
   "source": [
    "### Vamos agora enviar um e-mail pelo gmail"
   ]
  },
  {
   "cell_type": "code",
   "execution_count": null,
   "metadata": {},
   "outputs": [],
   "source": []
  },
  {
   "cell_type": "markdown",
   "metadata": {},
   "source": [
    "#### Use esse código para descobrir qual a posição de um item que queira clicar\n",
    "\n",
    "- Lembre-se: a posição na sua tela é diferente da posição na minha tela"
   ]
  },
  {
   "cell_type": "code",
   "execution_count": null,
   "metadata": {},
   "outputs": [],
   "source": []
  }
 ],
 "metadata": {
  "interpreter": {
   "hash": "a1fbb46e97979fe274de0b1708aa8583f7166e6b85cafc938966f13b05b745da"
  },
  "kernelspec": {
   "display_name": "Python 3.10.4 64-bit",
   "language": "python",
   "name": "python3"
  },
  "language_info": {
   "codemirror_mode": {
    "name": "ipython",
    "version": 3
   },
   "file_extension": ".py",
   "mimetype": "text/x-python",
   "name": "python",
   "nbconvert_exporter": "python",
   "pygments_lexer": "ipython3",
   "version": "3.10.4"
  }
 },
 "nbformat": 4,
 "nbformat_minor": 4
}
